{
 "cells": [
  {
   "cell_type": "markdown",
   "metadata": {},
   "source": [
    "# Seaborn ณธกฤต ลลิตพุฒิโชค 6110405990"
   ]
  },
  {
   "cell_type": "code",
   "execution_count": 262,
   "metadata": {},
   "outputs": [],
   "source": [
    "import pandas as pd \n",
    "import seaborn as sns\n",
    "import numpy as np\n",
    "import matplotlib.pyplot as plt"
   ]
  },
  {
   "cell_type": "markdown",
   "metadata": {},
   "source": [
    "# 1"
   ]
  },
  {
   "cell_type": "code",
   "execution_count": 263,
   "metadata": {},
   "outputs": [],
   "source": [
    "df = pd.read_csv('Downloads/players.csv')"
   ]
  },
  {
   "cell_type": "code",
   "execution_count": 264,
   "metadata": {},
   "outputs": [
    {
     "data": {
      "text/html": [
       "<div>\n",
       "<style scoped>\n",
       "    .dataframe tbody tr th:only-of-type {\n",
       "        vertical-align: middle;\n",
       "    }\n",
       "\n",
       "    .dataframe tbody tr th {\n",
       "        vertical-align: top;\n",
       "    }\n",
       "\n",
       "    .dataframe thead th {\n",
       "        text-align: right;\n",
       "    }\n",
       "</style>\n",
       "<table border=\"1\" class=\"dataframe\">\n",
       "  <thead>\n",
       "    <tr style=\"text-align: right;\">\n",
       "      <th></th>\n",
       "      <th>surname</th>\n",
       "      <th>team</th>\n",
       "      <th>position</th>\n",
       "      <th>minutes</th>\n",
       "      <th>shots</th>\n",
       "      <th>passes</th>\n",
       "      <th>tackles</th>\n",
       "      <th>saves</th>\n",
       "      <th>Unnamed: 8</th>\n",
       "      <th>Unnamed: 9</th>\n",
       "      <th>...</th>\n",
       "      <th>Unnamed: 16</th>\n",
       "      <th>Unnamed: 17</th>\n",
       "      <th>Unnamed: 18</th>\n",
       "      <th>Unnamed: 19</th>\n",
       "      <th>Unnamed: 20</th>\n",
       "      <th>Unnamed: 21</th>\n",
       "      <th>Unnamed: 22</th>\n",
       "      <th>Unnamed: 23</th>\n",
       "      <th>Unnamed: 24</th>\n",
       "      <th>Unnamed: 25</th>\n",
       "    </tr>\n",
       "  </thead>\n",
       "  <tbody>\n",
       "    <tr>\n",
       "      <th>0</th>\n",
       "      <td>Abdoun</td>\n",
       "      <td>Algeria</td>\n",
       "      <td>midfielder</td>\n",
       "      <td>16</td>\n",
       "      <td>0</td>\n",
       "      <td>6</td>\n",
       "      <td>0</td>\n",
       "      <td>0</td>\n",
       "      <td>NaN</td>\n",
       "      <td>NaN</td>\n",
       "      <td>...</td>\n",
       "      <td>NaN</td>\n",
       "      <td>NaN</td>\n",
       "      <td>NaN</td>\n",
       "      <td>NaN</td>\n",
       "      <td>NaN</td>\n",
       "      <td>NaN</td>\n",
       "      <td>NaN</td>\n",
       "      <td>NaN</td>\n",
       "      <td>NaN</td>\n",
       "      <td>NaN</td>\n",
       "    </tr>\n",
       "    <tr>\n",
       "      <th>1</th>\n",
       "      <td>Belhadj</td>\n",
       "      <td>Algeria</td>\n",
       "      <td>defender</td>\n",
       "      <td>270</td>\n",
       "      <td>1</td>\n",
       "      <td>146</td>\n",
       "      <td>8</td>\n",
       "      <td>0</td>\n",
       "      <td>NaN</td>\n",
       "      <td>NaN</td>\n",
       "      <td>...</td>\n",
       "      <td>NaN</td>\n",
       "      <td>NaN</td>\n",
       "      <td>NaN</td>\n",
       "      <td>NaN</td>\n",
       "      <td>NaN</td>\n",
       "      <td>NaN</td>\n",
       "      <td>NaN</td>\n",
       "      <td>NaN</td>\n",
       "      <td>NaN</td>\n",
       "      <td>NaN</td>\n",
       "    </tr>\n",
       "    <tr>\n",
       "      <th>2</th>\n",
       "      <td>Boudebouz</td>\n",
       "      <td>Algeria</td>\n",
       "      <td>midfielder</td>\n",
       "      <td>74</td>\n",
       "      <td>3</td>\n",
       "      <td>28</td>\n",
       "      <td>1</td>\n",
       "      <td>0</td>\n",
       "      <td>NaN</td>\n",
       "      <td>NaN</td>\n",
       "      <td>...</td>\n",
       "      <td>NaN</td>\n",
       "      <td>NaN</td>\n",
       "      <td>NaN</td>\n",
       "      <td>NaN</td>\n",
       "      <td>NaN</td>\n",
       "      <td>NaN</td>\n",
       "      <td>NaN</td>\n",
       "      <td>NaN</td>\n",
       "      <td>NaN</td>\n",
       "      <td>NaN</td>\n",
       "    </tr>\n",
       "    <tr>\n",
       "      <th>3</th>\n",
       "      <td>Bougherra</td>\n",
       "      <td>Algeria</td>\n",
       "      <td>defender</td>\n",
       "      <td>270</td>\n",
       "      <td>1</td>\n",
       "      <td>89</td>\n",
       "      <td>11</td>\n",
       "      <td>0</td>\n",
       "      <td>NaN</td>\n",
       "      <td>NaN</td>\n",
       "      <td>...</td>\n",
       "      <td>NaN</td>\n",
       "      <td>NaN</td>\n",
       "      <td>NaN</td>\n",
       "      <td>NaN</td>\n",
       "      <td>NaN</td>\n",
       "      <td>NaN</td>\n",
       "      <td>NaN</td>\n",
       "      <td>NaN</td>\n",
       "      <td>NaN</td>\n",
       "      <td>NaN</td>\n",
       "    </tr>\n",
       "    <tr>\n",
       "      <th>4</th>\n",
       "      <td>Chaouchi</td>\n",
       "      <td>Algeria</td>\n",
       "      <td>goalkeeper</td>\n",
       "      <td>90</td>\n",
       "      <td>0</td>\n",
       "      <td>17</td>\n",
       "      <td>0</td>\n",
       "      <td>2</td>\n",
       "      <td>NaN</td>\n",
       "      <td>NaN</td>\n",
       "      <td>...</td>\n",
       "      <td>NaN</td>\n",
       "      <td>NaN</td>\n",
       "      <td>NaN</td>\n",
       "      <td>NaN</td>\n",
       "      <td>NaN</td>\n",
       "      <td>NaN</td>\n",
       "      <td>NaN</td>\n",
       "      <td>NaN</td>\n",
       "      <td>NaN</td>\n",
       "      <td>NaN</td>\n",
       "    </tr>\n",
       "    <tr>\n",
       "      <th>...</th>\n",
       "      <td>...</td>\n",
       "      <td>...</td>\n",
       "      <td>...</td>\n",
       "      <td>...</td>\n",
       "      <td>...</td>\n",
       "      <td>...</td>\n",
       "      <td>...</td>\n",
       "      <td>...</td>\n",
       "      <td>...</td>\n",
       "      <td>...</td>\n",
       "      <td>...</td>\n",
       "      <td>...</td>\n",
       "      <td>...</td>\n",
       "      <td>...</td>\n",
       "      <td>...</td>\n",
       "      <td>...</td>\n",
       "      <td>...</td>\n",
       "      <td>...</td>\n",
       "      <td>...</td>\n",
       "      <td>...</td>\n",
       "      <td>...</td>\n",
       "    </tr>\n",
       "    <tr>\n",
       "      <th>590</th>\n",
       "      <td>Holden</td>\n",
       "      <td>USA</td>\n",
       "      <td>midfielder</td>\n",
       "      <td>4</td>\n",
       "      <td>0</td>\n",
       "      <td>2</td>\n",
       "      <td>0</td>\n",
       "      <td>0</td>\n",
       "      <td>NaN</td>\n",
       "      <td>NaN</td>\n",
       "      <td>...</td>\n",
       "      <td>NaN</td>\n",
       "      <td>NaN</td>\n",
       "      <td>NaN</td>\n",
       "      <td>NaN</td>\n",
       "      <td>NaN</td>\n",
       "      <td>NaN</td>\n",
       "      <td>NaN</td>\n",
       "      <td>NaN</td>\n",
       "      <td>NaN</td>\n",
       "      <td>NaN</td>\n",
       "    </tr>\n",
       "    <tr>\n",
       "      <th>591</th>\n",
       "      <td>Howard</td>\n",
       "      <td>USA</td>\n",
       "      <td>goalkeeper</td>\n",
       "      <td>390</td>\n",
       "      <td>0</td>\n",
       "      <td>81</td>\n",
       "      <td>0</td>\n",
       "      <td>14</td>\n",
       "      <td>NaN</td>\n",
       "      <td>NaN</td>\n",
       "      <td>...</td>\n",
       "      <td>NaN</td>\n",
       "      <td>NaN</td>\n",
       "      <td>NaN</td>\n",
       "      <td>NaN</td>\n",
       "      <td>NaN</td>\n",
       "      <td>NaN</td>\n",
       "      <td>NaN</td>\n",
       "      <td>NaN</td>\n",
       "      <td>NaN</td>\n",
       "      <td>NaN</td>\n",
       "    </tr>\n",
       "    <tr>\n",
       "      <th>592</th>\n",
       "      <td>Jozy Altidore</td>\n",
       "      <td>USA</td>\n",
       "      <td>forward</td>\n",
       "      <td>356</td>\n",
       "      <td>8</td>\n",
       "      <td>84</td>\n",
       "      <td>2</td>\n",
       "      <td>0</td>\n",
       "      <td>NaN</td>\n",
       "      <td>NaN</td>\n",
       "      <td>...</td>\n",
       "      <td>NaN</td>\n",
       "      <td>NaN</td>\n",
       "      <td>NaN</td>\n",
       "      <td>NaN</td>\n",
       "      <td>NaN</td>\n",
       "      <td>NaN</td>\n",
       "      <td>NaN</td>\n",
       "      <td>NaN</td>\n",
       "      <td>NaN</td>\n",
       "      <td>NaN</td>\n",
       "    </tr>\n",
       "    <tr>\n",
       "      <th>593</th>\n",
       "      <td>Onyewu</td>\n",
       "      <td>USA</td>\n",
       "      <td>defender</td>\n",
       "      <td>170</td>\n",
       "      <td>1</td>\n",
       "      <td>69</td>\n",
       "      <td>2</td>\n",
       "      <td>0</td>\n",
       "      <td>NaN</td>\n",
       "      <td>NaN</td>\n",
       "      <td>...</td>\n",
       "      <td>NaN</td>\n",
       "      <td>NaN</td>\n",
       "      <td>NaN</td>\n",
       "      <td>NaN</td>\n",
       "      <td>NaN</td>\n",
       "      <td>NaN</td>\n",
       "      <td>NaN</td>\n",
       "      <td>NaN</td>\n",
       "      <td>NaN</td>\n",
       "      <td>NaN</td>\n",
       "    </tr>\n",
       "    <tr>\n",
       "      <th>594</th>\n",
       "      <td>Torres</td>\n",
       "      <td>USA</td>\n",
       "      <td>midfielder</td>\n",
       "      <td>45</td>\n",
       "      <td>1</td>\n",
       "      <td>32</td>\n",
       "      <td>0</td>\n",
       "      <td>0</td>\n",
       "      <td>NaN</td>\n",
       "      <td>NaN</td>\n",
       "      <td>...</td>\n",
       "      <td>NaN</td>\n",
       "      <td>NaN</td>\n",
       "      <td>NaN</td>\n",
       "      <td>NaN</td>\n",
       "      <td>NaN</td>\n",
       "      <td>NaN</td>\n",
       "      <td>NaN</td>\n",
       "      <td>NaN</td>\n",
       "      <td>NaN</td>\n",
       "      <td>NaN</td>\n",
       "    </tr>\n",
       "  </tbody>\n",
       "</table>\n",
       "<p>595 rows × 26 columns</p>\n",
       "</div>"
      ],
      "text/plain": [
       "           surname     team    position  minutes  shots  passes  tackles  \\\n",
       "0           Abdoun  Algeria  midfielder       16      0       6        0   \n",
       "1          Belhadj  Algeria    defender      270      1     146        8   \n",
       "2        Boudebouz  Algeria  midfielder       74      3      28        1   \n",
       "3        Bougherra  Algeria    defender      270      1      89       11   \n",
       "4         Chaouchi  Algeria  goalkeeper       90      0      17        0   \n",
       "..             ...      ...         ...      ...    ...     ...      ...   \n",
       "590         Holden      USA  midfielder        4      0       2        0   \n",
       "591         Howard      USA  goalkeeper      390      0      81        0   \n",
       "592  Jozy Altidore      USA     forward      356      8      84        2   \n",
       "593         Onyewu      USA    defender      170      1      69        2   \n",
       "594         Torres      USA  midfielder       45      1      32        0   \n",
       "\n",
       "     saves  Unnamed: 8  Unnamed: 9  ...  Unnamed: 16  Unnamed: 17  \\\n",
       "0        0         NaN         NaN  ...          NaN          NaN   \n",
       "1        0         NaN         NaN  ...          NaN          NaN   \n",
       "2        0         NaN         NaN  ...          NaN          NaN   \n",
       "3        0         NaN         NaN  ...          NaN          NaN   \n",
       "4        2         NaN         NaN  ...          NaN          NaN   \n",
       "..     ...         ...         ...  ...          ...          ...   \n",
       "590      0         NaN         NaN  ...          NaN          NaN   \n",
       "591     14         NaN         NaN  ...          NaN          NaN   \n",
       "592      0         NaN         NaN  ...          NaN          NaN   \n",
       "593      0         NaN         NaN  ...          NaN          NaN   \n",
       "594      0         NaN         NaN  ...          NaN          NaN   \n",
       "\n",
       "     Unnamed: 18  Unnamed: 19  Unnamed: 20  Unnamed: 21  Unnamed: 22  \\\n",
       "0            NaN          NaN          NaN          NaN          NaN   \n",
       "1            NaN          NaN          NaN          NaN          NaN   \n",
       "2            NaN          NaN          NaN          NaN          NaN   \n",
       "3            NaN          NaN          NaN          NaN          NaN   \n",
       "4            NaN          NaN          NaN          NaN          NaN   \n",
       "..           ...          ...          ...          ...          ...   \n",
       "590          NaN          NaN          NaN          NaN          NaN   \n",
       "591          NaN          NaN          NaN          NaN          NaN   \n",
       "592          NaN          NaN          NaN          NaN          NaN   \n",
       "593          NaN          NaN          NaN          NaN          NaN   \n",
       "594          NaN          NaN          NaN          NaN          NaN   \n",
       "\n",
       "     Unnamed: 23  Unnamed: 24  Unnamed: 25  \n",
       "0            NaN          NaN          NaN  \n",
       "1            NaN          NaN          NaN  \n",
       "2            NaN          NaN          NaN  \n",
       "3            NaN          NaN          NaN  \n",
       "4            NaN          NaN          NaN  \n",
       "..           ...          ...          ...  \n",
       "590          NaN          NaN          NaN  \n",
       "591          NaN          NaN          NaN  \n",
       "592          NaN          NaN          NaN  \n",
       "593          NaN          NaN          NaN  \n",
       "594          NaN          NaN          NaN  \n",
       "\n",
       "[595 rows x 26 columns]"
      ]
     },
     "execution_count": 264,
     "metadata": {},
     "output_type": "execute_result"
    }
   ],
   "source": [
    "df"
   ]
  },
  {
   "cell_type": "code",
   "execution_count": 265,
   "metadata": {},
   "outputs": [
    {
     "data": {
      "text/html": [
       "<div>\n",
       "<style scoped>\n",
       "    .dataframe tbody tr th:only-of-type {\n",
       "        vertical-align: middle;\n",
       "    }\n",
       "\n",
       "    .dataframe tbody tr th {\n",
       "        vertical-align: top;\n",
       "    }\n",
       "\n",
       "    .dataframe thead th {\n",
       "        text-align: right;\n",
       "    }\n",
       "</style>\n",
       "<table border=\"1\" class=\"dataframe\">\n",
       "  <thead>\n",
       "    <tr style=\"text-align: right;\">\n",
       "      <th></th>\n",
       "      <th>surname</th>\n",
       "      <th>team</th>\n",
       "      <th>position</th>\n",
       "      <th>minutes</th>\n",
       "      <th>shots</th>\n",
       "      <th>passes</th>\n",
       "      <th>tackles</th>\n",
       "      <th>saves</th>\n",
       "    </tr>\n",
       "  </thead>\n",
       "  <tbody>\n",
       "    <tr>\n",
       "      <th>0</th>\n",
       "      <td>Abdoun</td>\n",
       "      <td>Algeria</td>\n",
       "      <td>midfielder</td>\n",
       "      <td>16</td>\n",
       "      <td>0</td>\n",
       "      <td>6</td>\n",
       "      <td>0</td>\n",
       "      <td>0</td>\n",
       "    </tr>\n",
       "    <tr>\n",
       "      <th>1</th>\n",
       "      <td>Belhadj</td>\n",
       "      <td>Algeria</td>\n",
       "      <td>defender</td>\n",
       "      <td>270</td>\n",
       "      <td>1</td>\n",
       "      <td>146</td>\n",
       "      <td>8</td>\n",
       "      <td>0</td>\n",
       "    </tr>\n",
       "    <tr>\n",
       "      <th>2</th>\n",
       "      <td>Boudebouz</td>\n",
       "      <td>Algeria</td>\n",
       "      <td>midfielder</td>\n",
       "      <td>74</td>\n",
       "      <td>3</td>\n",
       "      <td>28</td>\n",
       "      <td>1</td>\n",
       "      <td>0</td>\n",
       "    </tr>\n",
       "    <tr>\n",
       "      <th>3</th>\n",
       "      <td>Bougherra</td>\n",
       "      <td>Algeria</td>\n",
       "      <td>defender</td>\n",
       "      <td>270</td>\n",
       "      <td>1</td>\n",
       "      <td>89</td>\n",
       "      <td>11</td>\n",
       "      <td>0</td>\n",
       "    </tr>\n",
       "    <tr>\n",
       "      <th>4</th>\n",
       "      <td>Chaouchi</td>\n",
       "      <td>Algeria</td>\n",
       "      <td>goalkeeper</td>\n",
       "      <td>90</td>\n",
       "      <td>0</td>\n",
       "      <td>17</td>\n",
       "      <td>0</td>\n",
       "      <td>2</td>\n",
       "    </tr>\n",
       "    <tr>\n",
       "      <th>...</th>\n",
       "      <td>...</td>\n",
       "      <td>...</td>\n",
       "      <td>...</td>\n",
       "      <td>...</td>\n",
       "      <td>...</td>\n",
       "      <td>...</td>\n",
       "      <td>...</td>\n",
       "      <td>...</td>\n",
       "    </tr>\n",
       "    <tr>\n",
       "      <th>590</th>\n",
       "      <td>Holden</td>\n",
       "      <td>USA</td>\n",
       "      <td>midfielder</td>\n",
       "      <td>4</td>\n",
       "      <td>0</td>\n",
       "      <td>2</td>\n",
       "      <td>0</td>\n",
       "      <td>0</td>\n",
       "    </tr>\n",
       "    <tr>\n",
       "      <th>591</th>\n",
       "      <td>Howard</td>\n",
       "      <td>USA</td>\n",
       "      <td>goalkeeper</td>\n",
       "      <td>390</td>\n",
       "      <td>0</td>\n",
       "      <td>81</td>\n",
       "      <td>0</td>\n",
       "      <td>14</td>\n",
       "    </tr>\n",
       "    <tr>\n",
       "      <th>592</th>\n",
       "      <td>Jozy Altidore</td>\n",
       "      <td>USA</td>\n",
       "      <td>forward</td>\n",
       "      <td>356</td>\n",
       "      <td>8</td>\n",
       "      <td>84</td>\n",
       "      <td>2</td>\n",
       "      <td>0</td>\n",
       "    </tr>\n",
       "    <tr>\n",
       "      <th>593</th>\n",
       "      <td>Onyewu</td>\n",
       "      <td>USA</td>\n",
       "      <td>defender</td>\n",
       "      <td>170</td>\n",
       "      <td>1</td>\n",
       "      <td>69</td>\n",
       "      <td>2</td>\n",
       "      <td>0</td>\n",
       "    </tr>\n",
       "    <tr>\n",
       "      <th>594</th>\n",
       "      <td>Torres</td>\n",
       "      <td>USA</td>\n",
       "      <td>midfielder</td>\n",
       "      <td>45</td>\n",
       "      <td>1</td>\n",
       "      <td>32</td>\n",
       "      <td>0</td>\n",
       "      <td>0</td>\n",
       "    </tr>\n",
       "  </tbody>\n",
       "</table>\n",
       "<p>595 rows × 8 columns</p>\n",
       "</div>"
      ],
      "text/plain": [
       "           surname     team    position  minutes  shots  passes  tackles  \\\n",
       "0           Abdoun  Algeria  midfielder       16      0       6        0   \n",
       "1          Belhadj  Algeria    defender      270      1     146        8   \n",
       "2        Boudebouz  Algeria  midfielder       74      3      28        1   \n",
       "3        Bougherra  Algeria    defender      270      1      89       11   \n",
       "4         Chaouchi  Algeria  goalkeeper       90      0      17        0   \n",
       "..             ...      ...         ...      ...    ...     ...      ...   \n",
       "590         Holden      USA  midfielder        4      0       2        0   \n",
       "591         Howard      USA  goalkeeper      390      0      81        0   \n",
       "592  Jozy Altidore      USA     forward      356      8      84        2   \n",
       "593         Onyewu      USA    defender      170      1      69        2   \n",
       "594         Torres      USA  midfielder       45      1      32        0   \n",
       "\n",
       "     saves  \n",
       "0        0  \n",
       "1        0  \n",
       "2        0  \n",
       "3        0  \n",
       "4        2  \n",
       "..     ...  \n",
       "590      0  \n",
       "591     14  \n",
       "592      0  \n",
       "593      0  \n",
       "594      0  \n",
       "\n",
       "[595 rows x 8 columns]"
      ]
     },
     "execution_count": 265,
     "metadata": {},
     "output_type": "execute_result"
    }
   ],
   "source": [
    "df =df.loc[:,:'saves']\n",
    "df"
   ]
  },
  {
   "cell_type": "code",
   "execution_count": 266,
   "metadata": {},
   "outputs": [
    {
     "data": {
      "text/html": [
       "<div>\n",
       "<style scoped>\n",
       "    .dataframe tbody tr th:only-of-type {\n",
       "        vertical-align: middle;\n",
       "    }\n",
       "\n",
       "    .dataframe tbody tr th {\n",
       "        vertical-align: top;\n",
       "    }\n",
       "\n",
       "    .dataframe thead th {\n",
       "        text-align: right;\n",
       "    }\n",
       "</style>\n",
       "<table border=\"1\" class=\"dataframe\">\n",
       "  <thead>\n",
       "    <tr style=\"text-align: right;\">\n",
       "      <th></th>\n",
       "      <th>surname</th>\n",
       "      <th>team</th>\n",
       "      <th>position</th>\n",
       "      <th>minutes</th>\n",
       "      <th>shots</th>\n",
       "      <th>passes</th>\n",
       "      <th>tackles</th>\n",
       "      <th>saves</th>\n",
       "    </tr>\n",
       "  </thead>\n",
       "  <tbody>\n",
       "    <tr>\n",
       "      <th>0</th>\n",
       "      <td>Abdoun</td>\n",
       "      <td>Algeria</td>\n",
       "      <td>midfielder</td>\n",
       "      <td>16</td>\n",
       "      <td>0.000000</td>\n",
       "      <td>0.375000</td>\n",
       "      <td>0.000000</td>\n",
       "      <td>0.000000</td>\n",
       "    </tr>\n",
       "    <tr>\n",
       "      <th>1</th>\n",
       "      <td>Belhadj</td>\n",
       "      <td>Algeria</td>\n",
       "      <td>defender</td>\n",
       "      <td>270</td>\n",
       "      <td>0.003704</td>\n",
       "      <td>0.540741</td>\n",
       "      <td>0.029630</td>\n",
       "      <td>0.000000</td>\n",
       "    </tr>\n",
       "    <tr>\n",
       "      <th>2</th>\n",
       "      <td>Boudebouz</td>\n",
       "      <td>Algeria</td>\n",
       "      <td>midfielder</td>\n",
       "      <td>74</td>\n",
       "      <td>0.040541</td>\n",
       "      <td>0.378378</td>\n",
       "      <td>0.013514</td>\n",
       "      <td>0.000000</td>\n",
       "    </tr>\n",
       "    <tr>\n",
       "      <th>3</th>\n",
       "      <td>Bougherra</td>\n",
       "      <td>Algeria</td>\n",
       "      <td>defender</td>\n",
       "      <td>270</td>\n",
       "      <td>0.003704</td>\n",
       "      <td>0.329630</td>\n",
       "      <td>0.040741</td>\n",
       "      <td>0.000000</td>\n",
       "    </tr>\n",
       "    <tr>\n",
       "      <th>4</th>\n",
       "      <td>Chaouchi</td>\n",
       "      <td>Algeria</td>\n",
       "      <td>goalkeeper</td>\n",
       "      <td>90</td>\n",
       "      <td>0.000000</td>\n",
       "      <td>0.188889</td>\n",
       "      <td>0.000000</td>\n",
       "      <td>0.022222</td>\n",
       "    </tr>\n",
       "    <tr>\n",
       "      <th>...</th>\n",
       "      <td>...</td>\n",
       "      <td>...</td>\n",
       "      <td>...</td>\n",
       "      <td>...</td>\n",
       "      <td>...</td>\n",
       "      <td>...</td>\n",
       "      <td>...</td>\n",
       "      <td>...</td>\n",
       "    </tr>\n",
       "    <tr>\n",
       "      <th>590</th>\n",
       "      <td>Holden</td>\n",
       "      <td>USA</td>\n",
       "      <td>midfielder</td>\n",
       "      <td>4</td>\n",
       "      <td>0.000000</td>\n",
       "      <td>0.500000</td>\n",
       "      <td>0.000000</td>\n",
       "      <td>0.000000</td>\n",
       "    </tr>\n",
       "    <tr>\n",
       "      <th>591</th>\n",
       "      <td>Howard</td>\n",
       "      <td>USA</td>\n",
       "      <td>goalkeeper</td>\n",
       "      <td>390</td>\n",
       "      <td>0.000000</td>\n",
       "      <td>0.207692</td>\n",
       "      <td>0.000000</td>\n",
       "      <td>0.035897</td>\n",
       "    </tr>\n",
       "    <tr>\n",
       "      <th>592</th>\n",
       "      <td>Jozy Altidore</td>\n",
       "      <td>USA</td>\n",
       "      <td>forward</td>\n",
       "      <td>356</td>\n",
       "      <td>0.022472</td>\n",
       "      <td>0.235955</td>\n",
       "      <td>0.005618</td>\n",
       "      <td>0.000000</td>\n",
       "    </tr>\n",
       "    <tr>\n",
       "      <th>593</th>\n",
       "      <td>Onyewu</td>\n",
       "      <td>USA</td>\n",
       "      <td>defender</td>\n",
       "      <td>170</td>\n",
       "      <td>0.005882</td>\n",
       "      <td>0.405882</td>\n",
       "      <td>0.011765</td>\n",
       "      <td>0.000000</td>\n",
       "    </tr>\n",
       "    <tr>\n",
       "      <th>594</th>\n",
       "      <td>Torres</td>\n",
       "      <td>USA</td>\n",
       "      <td>midfielder</td>\n",
       "      <td>45</td>\n",
       "      <td>0.022222</td>\n",
       "      <td>0.711111</td>\n",
       "      <td>0.000000</td>\n",
       "      <td>0.000000</td>\n",
       "    </tr>\n",
       "  </tbody>\n",
       "</table>\n",
       "<p>595 rows × 8 columns</p>\n",
       "</div>"
      ],
      "text/plain": [
       "           surname     team    position  minutes     shots    passes  \\\n",
       "0           Abdoun  Algeria  midfielder       16  0.000000  0.375000   \n",
       "1          Belhadj  Algeria    defender      270  0.003704  0.540741   \n",
       "2        Boudebouz  Algeria  midfielder       74  0.040541  0.378378   \n",
       "3        Bougherra  Algeria    defender      270  0.003704  0.329630   \n",
       "4         Chaouchi  Algeria  goalkeeper       90  0.000000  0.188889   \n",
       "..             ...      ...         ...      ...       ...       ...   \n",
       "590         Holden      USA  midfielder        4  0.000000  0.500000   \n",
       "591         Howard      USA  goalkeeper      390  0.000000  0.207692   \n",
       "592  Jozy Altidore      USA     forward      356  0.022472  0.235955   \n",
       "593         Onyewu      USA    defender      170  0.005882  0.405882   \n",
       "594         Torres      USA  midfielder       45  0.022222  0.711111   \n",
       "\n",
       "      tackles     saves  \n",
       "0    0.000000  0.000000  \n",
       "1    0.029630  0.000000  \n",
       "2    0.013514  0.000000  \n",
       "3    0.040741  0.000000  \n",
       "4    0.000000  0.022222  \n",
       "..        ...       ...  \n",
       "590  0.000000  0.000000  \n",
       "591  0.000000  0.035897  \n",
       "592  0.005618  0.000000  \n",
       "593  0.011765  0.000000  \n",
       "594  0.000000  0.000000  \n",
       "\n",
       "[595 rows x 8 columns]"
      ]
     },
     "execution_count": 266,
     "metadata": {},
     "output_type": "execute_result"
    }
   ],
   "source": [
    "df['shots'] = df['shots'] /  df['minutes']\n",
    "df['passes'] = df['passes'] /  df['minutes']\n",
    "df['tackles'] = df['tackles'] /  df['minutes']\n",
    "df['saves'] = df['saves'] /  df['minutes']\n",
    "df"
   ]
  },
  {
   "cell_type": "code",
   "execution_count": 267,
   "metadata": {},
   "outputs": [
    {
     "data": {
      "text/html": [
       "<div>\n",
       "<style scoped>\n",
       "    .dataframe tbody tr th:only-of-type {\n",
       "        vertical-align: middle;\n",
       "    }\n",
       "\n",
       "    .dataframe tbody tr th {\n",
       "        vertical-align: top;\n",
       "    }\n",
       "\n",
       "    .dataframe thead th {\n",
       "        text-align: right;\n",
       "    }\n",
       "</style>\n",
       "<table border=\"1\" class=\"dataframe\">\n",
       "  <thead>\n",
       "    <tr style=\"text-align: right;\">\n",
       "      <th></th>\n",
       "      <th>surname</th>\n",
       "      <th>team</th>\n",
       "      <th>position</th>\n",
       "      <th>minutes</th>\n",
       "      <th>shots</th>\n",
       "      <th>passes</th>\n",
       "      <th>tackles</th>\n",
       "      <th>saves</th>\n",
       "      <th>pos</th>\n",
       "    </tr>\n",
       "  </thead>\n",
       "  <tbody>\n",
       "    <tr>\n",
       "      <th>0</th>\n",
       "      <td>Abdoun</td>\n",
       "      <td>Algeria</td>\n",
       "      <td>midfielder</td>\n",
       "      <td>16</td>\n",
       "      <td>0.000000</td>\n",
       "      <td>0.375000</td>\n",
       "      <td>0.000000</td>\n",
       "      <td>0.000000</td>\n",
       "      <td>midfielder</td>\n",
       "    </tr>\n",
       "    <tr>\n",
       "      <th>1</th>\n",
       "      <td>Belhadj</td>\n",
       "      <td>Algeria</td>\n",
       "      <td>defender</td>\n",
       "      <td>270</td>\n",
       "      <td>0.003704</td>\n",
       "      <td>0.540741</td>\n",
       "      <td>0.029630</td>\n",
       "      <td>0.000000</td>\n",
       "      <td>defender</td>\n",
       "    </tr>\n",
       "    <tr>\n",
       "      <th>2</th>\n",
       "      <td>Boudebouz</td>\n",
       "      <td>Algeria</td>\n",
       "      <td>midfielder</td>\n",
       "      <td>74</td>\n",
       "      <td>0.040541</td>\n",
       "      <td>0.378378</td>\n",
       "      <td>0.013514</td>\n",
       "      <td>0.000000</td>\n",
       "      <td>midfielder</td>\n",
       "    </tr>\n",
       "    <tr>\n",
       "      <th>3</th>\n",
       "      <td>Bougherra</td>\n",
       "      <td>Algeria</td>\n",
       "      <td>defender</td>\n",
       "      <td>270</td>\n",
       "      <td>0.003704</td>\n",
       "      <td>0.329630</td>\n",
       "      <td>0.040741</td>\n",
       "      <td>0.000000</td>\n",
       "      <td>defender</td>\n",
       "    </tr>\n",
       "    <tr>\n",
       "      <th>4</th>\n",
       "      <td>Chaouchi</td>\n",
       "      <td>Algeria</td>\n",
       "      <td>goalkeeper</td>\n",
       "      <td>90</td>\n",
       "      <td>0.000000</td>\n",
       "      <td>0.188889</td>\n",
       "      <td>0.000000</td>\n",
       "      <td>0.022222</td>\n",
       "      <td>goalkeeper</td>\n",
       "    </tr>\n",
       "    <tr>\n",
       "      <th>...</th>\n",
       "      <td>...</td>\n",
       "      <td>...</td>\n",
       "      <td>...</td>\n",
       "      <td>...</td>\n",
       "      <td>...</td>\n",
       "      <td>...</td>\n",
       "      <td>...</td>\n",
       "      <td>...</td>\n",
       "      <td>...</td>\n",
       "    </tr>\n",
       "    <tr>\n",
       "      <th>590</th>\n",
       "      <td>Holden</td>\n",
       "      <td>USA</td>\n",
       "      <td>midfielder</td>\n",
       "      <td>4</td>\n",
       "      <td>0.000000</td>\n",
       "      <td>0.500000</td>\n",
       "      <td>0.000000</td>\n",
       "      <td>0.000000</td>\n",
       "      <td>midfielder</td>\n",
       "    </tr>\n",
       "    <tr>\n",
       "      <th>591</th>\n",
       "      <td>Howard</td>\n",
       "      <td>USA</td>\n",
       "      <td>goalkeeper</td>\n",
       "      <td>390</td>\n",
       "      <td>0.000000</td>\n",
       "      <td>0.207692</td>\n",
       "      <td>0.000000</td>\n",
       "      <td>0.035897</td>\n",
       "      <td>goalkeeper</td>\n",
       "    </tr>\n",
       "    <tr>\n",
       "      <th>592</th>\n",
       "      <td>Jozy Altidore</td>\n",
       "      <td>USA</td>\n",
       "      <td>forward</td>\n",
       "      <td>356</td>\n",
       "      <td>0.022472</td>\n",
       "      <td>0.235955</td>\n",
       "      <td>0.005618</td>\n",
       "      <td>0.000000</td>\n",
       "      <td>forward</td>\n",
       "    </tr>\n",
       "    <tr>\n",
       "      <th>593</th>\n",
       "      <td>Onyewu</td>\n",
       "      <td>USA</td>\n",
       "      <td>defender</td>\n",
       "      <td>170</td>\n",
       "      <td>0.005882</td>\n",
       "      <td>0.405882</td>\n",
       "      <td>0.011765</td>\n",
       "      <td>0.000000</td>\n",
       "      <td>defender</td>\n",
       "    </tr>\n",
       "    <tr>\n",
       "      <th>594</th>\n",
       "      <td>Torres</td>\n",
       "      <td>USA</td>\n",
       "      <td>midfielder</td>\n",
       "      <td>45</td>\n",
       "      <td>0.022222</td>\n",
       "      <td>0.711111</td>\n",
       "      <td>0.000000</td>\n",
       "      <td>0.000000</td>\n",
       "      <td>midfielder</td>\n",
       "    </tr>\n",
       "  </tbody>\n",
       "</table>\n",
       "<p>595 rows × 9 columns</p>\n",
       "</div>"
      ],
      "text/plain": [
       "           surname     team    position  minutes     shots    passes  \\\n",
       "0           Abdoun  Algeria  midfielder       16  0.000000  0.375000   \n",
       "1          Belhadj  Algeria    defender      270  0.003704  0.540741   \n",
       "2        Boudebouz  Algeria  midfielder       74  0.040541  0.378378   \n",
       "3        Bougherra  Algeria    defender      270  0.003704  0.329630   \n",
       "4         Chaouchi  Algeria  goalkeeper       90  0.000000  0.188889   \n",
       "..             ...      ...         ...      ...       ...       ...   \n",
       "590         Holden      USA  midfielder        4  0.000000  0.500000   \n",
       "591         Howard      USA  goalkeeper      390  0.000000  0.207692   \n",
       "592  Jozy Altidore      USA     forward      356  0.022472  0.235955   \n",
       "593         Onyewu      USA    defender      170  0.005882  0.405882   \n",
       "594         Torres      USA  midfielder       45  0.022222  0.711111   \n",
       "\n",
       "      tackles     saves         pos  \n",
       "0    0.000000  0.000000  midfielder  \n",
       "1    0.029630  0.000000    defender  \n",
       "2    0.013514  0.000000  midfielder  \n",
       "3    0.040741  0.000000    defender  \n",
       "4    0.000000  0.022222  goalkeeper  \n",
       "..        ...       ...         ...  \n",
       "590  0.000000  0.000000  midfielder  \n",
       "591  0.000000  0.035897  goalkeeper  \n",
       "592  0.005618  0.000000     forward  \n",
       "593  0.011765  0.000000    defender  \n",
       "594  0.000000  0.000000  midfielder  \n",
       "\n",
       "[595 rows x 9 columns]"
      ]
     },
     "execution_count": 267,
     "metadata": {},
     "output_type": "execute_result"
    }
   ],
   "source": [
    "df['pos'] = pd.Categorical(df.position, \n",
    "               categories=['goalkeeper','defender','midfielder','forward'], \n",
    "               ordered=True)\n",
    "df"
   ]
  },
  {
   "cell_type": "markdown",
   "metadata": {},
   "source": [
    "# 2"
   ]
  },
  {
   "cell_type": "code",
   "execution_count": 268,
   "metadata": {},
   "outputs": [
    {
     "name": "stderr",
     "output_type": "stream",
     "text": [
      "D:\\Anaconda\\lib\\site-packages\\seaborn\\distributions.py:2551: FutureWarning: `distplot` is a deprecated function and will be removed in a future version. Please adapt your code to use either `displot` (a figure-level function with similar flexibility) or `histplot` (an axes-level function for histograms).\n",
      "  warnings.warn(msg, FutureWarning)\n"
     ]
    },
    {
     "data": {
      "text/plain": [
       "<AxesSubplot:xlabel='passes', ylabel='Density'>"
      ]
     },
     "execution_count": 268,
     "metadata": {},
     "output_type": "execute_result"
    },
    {
     "data": {
      "image/png": "[encoded data removed]",
      "text/plain": [
       "<Figure size 432x288 with 1 Axes>"
      ]
     },
     "metadata": {
      "needs_background": "light"
     },
     "output_type": "display_data"
    }
   ],
   "source": [
    "sns.distplot(df.passes)"
   ]
  },
  {
   "cell_type": "markdown",
   "metadata": {},
   "source": [
    "# 3\n"
   ]
  },
  {
   "cell_type": "code",
   "execution_count": 285,
   "metadata": {},
   "outputs": [
    {
     "name": "stderr",
     "output_type": "stream",
     "text": [
      "D:\\Anaconda\\lib\\site-packages\\seaborn\\distributions.py:2551: FutureWarning: `distplot` is a deprecated function and will be removed in a future version. Please adapt your code to use either `displot` (a figure-level function with similar flexibility) or `histplot` (an axes-level function for histograms).\n",
      "  warnings.warn(msg, FutureWarning)\n"
     ]
    },
    {
     "data": {
      "text/plain": [
       "<AxesSubplot:xlabel='shots'>"
      ]
     },
     "execution_count": 285,
     "metadata": {},
     "output_type": "execute_result"
    },
    {
     "data": {
      "image/png": "[encoded data removed]",
      "text/plain": [
       "<Figure size 432x288 with 1 Axes>"
      ]
     },
     "metadata": {
      "needs_background": "light"
     },
     "output_type": "display_data"
    }
   ],
   "source": [
    "d  = df[(df.team == 'USA')]\n",
    "sns.distplot(d.shots, hist=True, kde=False, rug=False )"
   ]
  },
  {
   "cell_type": "markdown",
   "metadata": {},
   "source": [
    "# 4"
   ]
  },
  {
   "cell_type": "code",
   "execution_count": 270,
   "metadata": {},
   "outputs": [
    {
     "data": {
      "text/plain": [
       "<seaborn.axisgrid.FacetGrid at 0x1b732058b20>"
      ]
     },
     "execution_count": 270,
     "metadata": {},
     "output_type": "execute_result"
    },
    {
     "data": {
      "image/png": "[encoded data removed]",
      "text/plain": [
       "<Figure size 360x360 with 1 Axes>"
      ]
     },
     "metadata": {
      "needs_background": "light"
     },
     "output_type": "display_data"
    }
   ],
   "source": [
    "sns.relplot(data=df, x='passes',y='shots', kind='scatter')"
   ]
  },
  {
   "cell_type": "markdown",
   "metadata": {},
   "source": [
    "# 5"
   ]
  },
  {
   "cell_type": "code",
   "execution_count": 271,
   "metadata": {},
   "outputs": [
    {
     "data": {
      "text/plain": [
       "<seaborn.axisgrid.FacetGrid at 0x1b73209f430>"
      ]
     },
     "execution_count": 271,
     "metadata": {},
     "output_type": "execute_result"
    },
    {
     "data": {
      "image/png": "[encoded data removed]",
      "text/plain": [
       "<Figure size 451.5x360 with 1 Axes>"
      ]
     },
     "metadata": {
      "needs_background": "light"
     },
     "output_type": "display_data"
    }
   ],
   "source": [
    "dff = df[(df.team == 'Brazil') | (df.team == 'Spain') | (df.team == 'USA')]\n",
    "sns.relplot(data=dff, x='passes',y='shots'\n",
    "            ,hue='team',style='pos')"
   ]
  },
  {
   "cell_type": "markdown",
   "metadata": {},
   "source": [
    "# 6"
   ]
  },
  {
   "cell_type": "code",
   "execution_count": 272,
   "metadata": {},
   "outputs": [
    {
     "data": {
      "text/plain": [
       "<seaborn.axisgrid.FacetGrid at 0x1b731fc1340>"
      ]
     },
     "execution_count": 272,
     "metadata": {},
     "output_type": "execute_result"
    },
    {
     "data": {
      "image/png": "[encoded data removed]",
      "text/plain": [
       "<Figure size 1144x1440 with 12 Axes>"
      ]
     },
     "metadata": {
      "needs_background": "light"
     },
     "output_type": "display_data"
    }
   ],
   "source": [
    "sns.relplot(data=dff, x='passes',y='shots'\n",
    "            ,hue='team',row='pos',col='team')"
   ]
  },
  {
   "cell_type": "markdown",
   "metadata": {},
   "source": [
    "# 7"
   ]
  },
  {
   "cell_type": "code",
   "execution_count": 273,
   "metadata": {},
   "outputs": [
    {
     "data": {
      "text/plain": [
       "<seaborn.axisgrid.FacetGrid at 0x1b7332b0400>"
      ]
     },
     "execution_count": 273,
     "metadata": {},
     "output_type": "execute_result"
    },
    {
     "data": {
      "image/png": "[encoded data removed]",
      "text/plain": [
       "<Figure size 360x360 with 1 Axes>"
      ]
     },
     "metadata": {
      "needs_background": "light"
     },
     "output_type": "display_data"
    }
   ],
   "source": [
    "sns.catplot(data=dff, x='team', y='passes', kind='box')"
   ]
  },
  {
   "cell_type": "markdown",
   "metadata": {},
   "source": [
    "# 8"
   ]
  },
  {
   "cell_type": "code",
   "execution_count": 274,
   "metadata": {},
   "outputs": [
    {
     "data": {
      "text/plain": [
       "<seaborn.axisgrid.FacetGrid at 0x1b7320b9850>"
      ]
     },
     "execution_count": 274,
     "metadata": {},
     "output_type": "execute_result"
    },
    {
     "data": {
      "image/png": "[encoded data removed]",
      "text/plain": [
       "<Figure size 451.5x360 with 1 Axes>"
      ]
     },
     "metadata": {
      "needs_background": "light"
     },
     "output_type": "display_data"
    }
   ],
   "source": [
    "sns.catplot(data=dff, x='team', y='passes'\n",
    "            ,hue='pos', kind='swarm')"
   ]
  },
  {
   "cell_type": "markdown",
   "metadata": {},
   "source": [
    "# 9"
   ]
  },
  {
   "cell_type": "code",
   "execution_count": 275,
   "metadata": {},
   "outputs": [
    {
     "data": {
      "text/plain": [
       "<seaborn.axisgrid.FacetGrid at 0x1b733ce8460>"
      ]
     },
     "execution_count": 275,
     "metadata": {},
     "output_type": "execute_result"
    },
    {
     "data": {
      "image/png": "[encoded data removed]",
      "text/plain": [
       "<Figure size 424x360 with 1 Axes>"
      ]
     },
     "metadata": {
      "needs_background": "light"
     },
     "output_type": "display_data"
    }
   ],
   "source": [
    "sns.catplot(data=dff, x='pos', y='tackles', kind='bar',hue='team')"
   ]
  },
  {
   "cell_type": "markdown",
   "metadata": {},
   "source": [
    "# 10"
   ]
  },
  {
   "cell_type": "code",
   "execution_count": 276,
   "metadata": {},
   "outputs": [
    {
     "data": {
      "text/plain": [
       "<seaborn.axisgrid.FacetGrid at 0x1b733e0b100>"
      ]
     },
     "execution_count": 276,
     "metadata": {},
     "output_type": "execute_result"
    },
    {
     "data": {
      "image/png": "[encoded data removed]",
      "text/plain": [
       "<Figure size 456.125x360 with 1 Axes>"
      ]
     },
     "metadata": {
      "needs_background": "light"
     },
     "output_type": "display_data"
    }
   ],
   "source": [
    "df2 = df[(df.team == 'Brazil') | (df.team == 'Japan') | (df.team == 'USA')|(df.team == 'Spain')|(df.team == 'Algeria')|(df.team == 'France')|(df.team == 'England')|(df.team == 'South Korea')]\n",
    "df2 = df2.groupby(['team']).sum()\n",
    "sns.relplot(data=df2, x='passes',y='shots'\n",
    "            ,hue='team')"
   ]
  },
  {
   "cell_type": "markdown",
   "metadata": {},
   "source": [
    "# 11"
   ]
  },
  {
   "cell_type": "code",
   "execution_count": 282,
   "metadata": {},
   "outputs": [
    {
     "name": "stderr",
     "output_type": "stream",
     "text": [
      "D:\\Anaconda\\lib\\site-packages\\seaborn\\distributions.py:2551: FutureWarning: `distplot` is a deprecated function and will be removed in a future version. Please adapt your code to use either `displot` (a figure-level function with similar flexibility) or `histplot` (an axes-level function for histograms).\n",
      "  warnings.warn(msg, FutureWarning)\n",
      "D:\\Anaconda\\lib\\site-packages\\seaborn\\distributions.py:2551: FutureWarning: `distplot` is a deprecated function and will be removed in a future version. Please adapt your code to use either `displot` (a figure-level function with similar flexibility) or `histplot` (an axes-level function for histograms).\n",
      "  warnings.warn(msg, FutureWarning)\n",
      "D:\\Anaconda\\lib\\site-packages\\seaborn\\distributions.py:2551: FutureWarning: `distplot` is a deprecated function and will be removed in a future version. Please adapt your code to use either `displot` (a figure-level function with similar flexibility) or `histplot` (an axes-level function for histograms).\n",
      "  warnings.warn(msg, FutureWarning)\n"
     ]
    },
    {
     "data": {
      "text/plain": [
       "<matplotlib.legend.Legend at 0x1b733eb0c70>"
      ]
     },
     "execution_count": 282,
     "metadata": {},
     "output_type": "execute_result"
    },
    {
     "data": {
      "image/png": "[encoded data removed]",
      "text/plain": [
       "<Figure size 432x288 with 1 Axes>"
      ]
     },
     "metadata": {
      "needs_background": "light"
     },
     "output_type": "display_data"
    }
   ],
   "source": [
    "df1 = df[(df.team == 'Brazil')]\n",
    "df2 = df[(df.team == 'USA')]\n",
    "df3 = df[(df.team == 'Spain')]\n",
    "sns.distplot(df1.passes,label='Brazil')\n",
    "sns.distplot(df2.passes,label='USA')\n",
    "sns.distplot(df3.passes,label='Spain')\n",
    "plt.legend()"
   ]
  },
  {
   "cell_type": "code",
   "execution_count": null,
   "metadata": {},
   "outputs": [],
   "source": []
  },
  {
   "cell_type": "code",
   "execution_count": null,
   "metadata": {},
   "outputs": [],
   "source": []
  },
  {
   "cell_type": "code",
   "execution_count": null,
   "metadata": {},
   "outputs": [],
   "source": []
  }
 ],
 "metadata": {
  "kernelspec": {
   "display_name": "Python 3",
   "language": "python",
   "name": "python3"
  },
  "language_info": {
   "codemirror_mode": {
    "name": "ipython",
    "version": 3
   },
   "file_extension": ".py",
   "mimetype": "text/x-python",
   "name": "python",
   "nbconvert_exporter": "python",
   "pygments_lexer": "ipython3",
   "version": "3.8.5"
  }
 },
 "nbformat": 4,
 "nbformat_minor": 4
}
