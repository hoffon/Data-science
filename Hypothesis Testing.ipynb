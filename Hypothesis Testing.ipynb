{
 "cells": [
  {
   "cell_type": "markdown",
   "metadata": {},
   "source": [
    "# ณธกฤต ลลิตพุฒิโชค 6110405990\n",
    "# Practice Hypothesis Testing"
   ]
  },
  {
   "cell_type": "code",
   "execution_count": 952,
   "metadata": {},
   "outputs": [],
   "source": [
    "import pandas as pd\n",
    "import seaborn as sns\n",
    "import scipy.stats as stats\n",
    "import matplotlib.pyplot as plt\n",
    "import numpy as np"
   ]
  },
  {
   "cell_type": "markdown",
   "metadata": {},
   "source": [
    "### โหลดข้อมูล accident.csv แล้วคัดกรองเฉพาะแถวที่รถผู้บาดเจ็บเป็น \"รถจักรยานยนต์\" และมาตรการรักษาความปลอดภัยของผู้ขับขี่ไม่ใช่ \"ไม่ทราบ\""
   ]
  },
  {
   "cell_type": "code",
   "execution_count": 953,
   "metadata": {},
   "outputs": [
    {
     "data": {
      "text/html": [
       "<div>\n",
       "<style scoped>\n",
       "    .dataframe tbody tr th:only-of-type {\n",
       "        vertical-align: middle;\n",
       "    }\n",
       "\n",
       "    .dataframe tbody tr th {\n",
       "        vertical-align: top;\n",
       "    }\n",
       "\n",
       "    .dataframe thead th {\n",
       "        text-align: right;\n",
       "    }\n",
       "</style>\n",
       "<table border=\"1\" class=\"dataframe\">\n",
       "  <thead>\n",
       "    <tr style=\"text-align: right;\">\n",
       "      <th></th>\n",
       "      <th>ชื่อเทศกาล</th>\n",
       "      <th>รหัสจังหวัด</th>\n",
       "      <th>จังหวัด</th>\n",
       "      <th>รหัส รพ.</th>\n",
       "      <th>ชื่อโรงพยาบาลที่รับผู้บาดเจ็บ</th>\n",
       "      <th>วันที่เกิดเหตุ</th>\n",
       "      <th>เวลาเกิดเหตุ</th>\n",
       "      <th>เพศ</th>\n",
       "      <th>อายุ</th>\n",
       "      <th>ถนนที่เกิดเหตุ</th>\n",
       "      <th>สถานะ</th>\n",
       "      <th>รถผู้บาดเจ็บ</th>\n",
       "      <th>รถคู่กรณี</th>\n",
       "      <th>มาตรการ</th>\n",
       "      <th>การดื่มสุรา</th>\n",
       "      <th>การนำส่ง</th>\n",
       "      <th>Refer-Admit</th>\n",
       "      <th>ผลการรักษา</th>\n",
       "      <th>จำนวนวันรักษา</th>\n",
       "    </tr>\n",
       "  </thead>\n",
       "  <tbody>\n",
       "    <tr>\n",
       "      <th>0</th>\n",
       "      <td>ปีใหม่ 51</td>\n",
       "      <td>10</td>\n",
       "      <td>กรุงเทพมหานคร</td>\n",
       "      <td>11630</td>\n",
       "      <td>กรุงเทพ</td>\n",
       "      <td>3</td>\n",
       "      <td>12:01-13:00 น.</td>\n",
       "      <td>หญิง</td>\n",
       "      <td>54</td>\n",
       "      <td>ในเมือง</td>\n",
       "      <td>ผู้ชับขี่</td>\n",
       "      <td>รถเก๋ง/แท็กซี่</td>\n",
       "      <td>ไม่มี/ล้มเอง</td>\n",
       "      <td>เข็มขัด</td>\n",
       "      <td>ไม่ดื่ม</td>\n",
       "      <td>ผู้ประสบเหตุ/ญาติ</td>\n",
       "      <td>ไม่</td>\n",
       "      <td>ทุเลา/หาย</td>\n",
       "      <td>0</td>\n",
       "    </tr>\n",
       "    <tr>\n",
       "      <th>1</th>\n",
       "      <td>ปีใหม่ 51</td>\n",
       "      <td>10</td>\n",
       "      <td>กรุงเทพมหานคร</td>\n",
       "      <td>11548</td>\n",
       "      <td>กรุงเทพคริสเตียน</td>\n",
       "      <td>2</td>\n",
       "      <td>21:01-22:00 น.</td>\n",
       "      <td>หญิง</td>\n",
       "      <td>13</td>\n",
       "      <td>ในเมือง</td>\n",
       "      <td>ผู้ชับขี่</td>\n",
       "      <td>จักรยานยนต์</td>\n",
       "      <td>รถตู้</td>\n",
       "      <td>ใส่หมวก</td>\n",
       "      <td>ไม่ดื่ม</td>\n",
       "      <td>มูลนิธิ/อาสาสมัคร</td>\n",
       "      <td>admit</td>\n",
       "      <td>ทุเลา/หาย</td>\n",
       "      <td>0</td>\n",
       "    </tr>\n",
       "    <tr>\n",
       "      <th>2</th>\n",
       "      <td>ปีใหม่ 51</td>\n",
       "      <td>10</td>\n",
       "      <td>กรุงเทพมหานคร</td>\n",
       "      <td>11548</td>\n",
       "      <td>กรุงเทพคริสเตียน</td>\n",
       "      <td>31</td>\n",
       "      <td>03:01-04:00 น.</td>\n",
       "      <td>หญิง</td>\n",
       "      <td>0</td>\n",
       "      <td>ในเมือง</td>\n",
       "      <td>ผู้โดยสาร</td>\n",
       "      <td>จักรยานยนต์</td>\n",
       "      <td>ปิคอัพ</td>\n",
       "      <td>ไม่ใส่</td>\n",
       "      <td>ไม่ดื่ม</td>\n",
       "      <td>ผู้ประสบเหตุ/ญาติ</td>\n",
       "      <td>ไม่</td>\n",
       "      <td>ทุเลา/หาย</td>\n",
       "      <td>0</td>\n",
       "    </tr>\n",
       "    <tr>\n",
       "      <th>3</th>\n",
       "      <td>ปีใหม่ 51</td>\n",
       "      <td>10</td>\n",
       "      <td>กรุงเทพมหานคร</td>\n",
       "      <td>11548</td>\n",
       "      <td>กรุงเทพคริสเตียน</td>\n",
       "      <td>31</td>\n",
       "      <td>03:01-04:00 น.</td>\n",
       "      <td>หญิง</td>\n",
       "      <td>0</td>\n",
       "      <td>ในเมือง</td>\n",
       "      <td>ผู้โดยสาร</td>\n",
       "      <td>จักรยานยนต์</td>\n",
       "      <td>ปิคอัพ</td>\n",
       "      <td>ใส่หมวก</td>\n",
       "      <td>ไม่ดื่ม</td>\n",
       "      <td>ผู้ประสบเหตุ/ญาติ</td>\n",
       "      <td>ไม่</td>\n",
       "      <td>ทุเลา/หาย</td>\n",
       "      <td>0</td>\n",
       "    </tr>\n",
       "    <tr>\n",
       "      <th>4</th>\n",
       "      <td>ปีใหม่ 51</td>\n",
       "      <td>10</td>\n",
       "      <td>กรุงเทพมหานคร</td>\n",
       "      <td>11548</td>\n",
       "      <td>กรุงเทพคริสเตียน</td>\n",
       "      <td>31</td>\n",
       "      <td>03:01-04:00 น.</td>\n",
       "      <td>ชาย</td>\n",
       "      <td>0</td>\n",
       "      <td>ในเมือง</td>\n",
       "      <td>ผู้ชับขี่</td>\n",
       "      <td>จักรยานยนต์</td>\n",
       "      <td>ปิคอัพ</td>\n",
       "      <td>ใส่หมวก</td>\n",
       "      <td>ดื่ม</td>\n",
       "      <td>ผู้ประสบเหตุ/ญาติ</td>\n",
       "      <td>ไม่</td>\n",
       "      <td>ทุเลา/หาย</td>\n",
       "      <td>0</td>\n",
       "    </tr>\n",
       "    <tr>\n",
       "      <th>...</th>\n",
       "      <td>...</td>\n",
       "      <td>...</td>\n",
       "      <td>...</td>\n",
       "      <td>...</td>\n",
       "      <td>...</td>\n",
       "      <td>...</td>\n",
       "      <td>...</td>\n",
       "      <td>...</td>\n",
       "      <td>...</td>\n",
       "      <td>...</td>\n",
       "      <td>...</td>\n",
       "      <td>...</td>\n",
       "      <td>...</td>\n",
       "      <td>...</td>\n",
       "      <td>...</td>\n",
       "      <td>...</td>\n",
       "      <td>...</td>\n",
       "      <td>...</td>\n",
       "      <td>...</td>\n",
       "    </tr>\n",
       "    <tr>\n",
       "      <th>214945</th>\n",
       "      <td>ปีใหม่ 58</td>\n",
       "      <td>97</td>\n",
       "      <td>บึงกาฬ</td>\n",
       "      <td>11049</td>\n",
       "      <td>ศรีวิไล</td>\n",
       "      <td>31</td>\n",
       "      <td>09:01-10:00 น.</td>\n",
       "      <td>ชาย</td>\n",
       "      <td>3</td>\n",
       "      <td>ชนบท</td>\n",
       "      <td>คนเดินเท้า</td>\n",
       "      <td>ไม่มี/ล้มเอง</td>\n",
       "      <td>จักรยานยนต์</td>\n",
       "      <td>ไม่ใส่</td>\n",
       "      <td>ไม่ดื่ม</td>\n",
       "      <td>ผู้ประสบเหตุ/ญาติ</td>\n",
       "      <td>ไม่</td>\n",
       "      <td>ทุเลา/หาย</td>\n",
       "      <td>0</td>\n",
       "    </tr>\n",
       "    <tr>\n",
       "      <th>214946</th>\n",
       "      <td>ปีใหม่ 58</td>\n",
       "      <td>97</td>\n",
       "      <td>บึงกาฬ</td>\n",
       "      <td>11049</td>\n",
       "      <td>ศรีวิไล</td>\n",
       "      <td>30</td>\n",
       "      <td>16:01-17:00 น.</td>\n",
       "      <td>หญิง</td>\n",
       "      <td>4</td>\n",
       "      <td>ชนบท</td>\n",
       "      <td>คนเดินเท้า</td>\n",
       "      <td>ไม่มี/ล้มเอง</td>\n",
       "      <td>จักรยานยนต์</td>\n",
       "      <td>ไม่ใส่</td>\n",
       "      <td>ไม่ดื่ม</td>\n",
       "      <td>ผู้ประสบเหตุ/ญาติ</td>\n",
       "      <td>ไม่</td>\n",
       "      <td>ทุเลา/หาย</td>\n",
       "      <td>0</td>\n",
       "    </tr>\n",
       "    <tr>\n",
       "      <th>214947</th>\n",
       "      <td>ปีใหม่ 58</td>\n",
       "      <td>97</td>\n",
       "      <td>บึงกาฬ</td>\n",
       "      <td>11049</td>\n",
       "      <td>ศรีวิไล</td>\n",
       "      <td>30</td>\n",
       "      <td>24:01-01:00 น.</td>\n",
       "      <td>ชาย</td>\n",
       "      <td>20</td>\n",
       "      <td>ชนบท</td>\n",
       "      <td>ผู้ชับขี่</td>\n",
       "      <td>จักรยานยนต์</td>\n",
       "      <td>ปิคอัพ</td>\n",
       "      <td>ไม่ใส่</td>\n",
       "      <td>ไม่ดื่ม</td>\n",
       "      <td>ALS</td>\n",
       "      <td>ส่งต่อก่อน admit</td>\n",
       "      <td>ทุเลา/หาย</td>\n",
       "      <td>0</td>\n",
       "    </tr>\n",
       "    <tr>\n",
       "      <th>214948</th>\n",
       "      <td>ปีใหม่ 58</td>\n",
       "      <td>97</td>\n",
       "      <td>บึงกาฬ</td>\n",
       "      <td>11049</td>\n",
       "      <td>ศรีวิไล</td>\n",
       "      <td>31</td>\n",
       "      <td>14:01-15:00 น.</td>\n",
       "      <td>ชาย</td>\n",
       "      <td>16</td>\n",
       "      <td>ชนบท</td>\n",
       "      <td>ผู้ชับขี่</td>\n",
       "      <td>จักรยานยนต์</td>\n",
       "      <td>ไม่มี/ล้มเอง</td>\n",
       "      <td>ไม่ใส่</td>\n",
       "      <td>ดื่ม</td>\n",
       "      <td>FR</td>\n",
       "      <td>ส่งต่อก่อน admit</td>\n",
       "      <td>ทุเลา/หาย</td>\n",
       "      <td>0</td>\n",
       "    </tr>\n",
       "    <tr>\n",
       "      <th>214949</th>\n",
       "      <td>ปีใหม่ 58</td>\n",
       "      <td>97</td>\n",
       "      <td>บึงกาฬ</td>\n",
       "      <td>11049</td>\n",
       "      <td>ศรีวิไล</td>\n",
       "      <td>5</td>\n",
       "      <td>15:01-16:00 น.</td>\n",
       "      <td>ชาย</td>\n",
       "      <td>19</td>\n",
       "      <td>ทางหลวง</td>\n",
       "      <td>ผู้ชับขี่</td>\n",
       "      <td>จักรยานยนต์</td>\n",
       "      <td>สามล้อเครื่อง</td>\n",
       "      <td>ใส่หมวก</td>\n",
       "      <td>ไม่ดื่ม</td>\n",
       "      <td>ผู้ประสบเหตุ/ญาติ</td>\n",
       "      <td>ส่งต่อก่อน admit</td>\n",
       "      <td>ทุเลา/หาย</td>\n",
       "      <td>0</td>\n",
       "    </tr>\n",
       "  </tbody>\n",
       "</table>\n",
       "<p>214950 rows × 19 columns</p>\n",
       "</div>"
      ],
      "text/plain": [
       "       ชื่อเทศกาล  รหัสจังหวัด        จังหวัด  รหัส รพ.  \\\n",
       "0       ปีใหม่ 51           10  กรุงเทพมหานคร     11630   \n",
       "1       ปีใหม่ 51           10  กรุงเทพมหานคร     11548   \n",
       "2       ปีใหม่ 51           10  กรุงเทพมหานคร     11548   \n",
       "3       ปีใหม่ 51           10  กรุงเทพมหานคร     11548   \n",
       "4       ปีใหม่ 51           10  กรุงเทพมหานคร     11548   \n",
       "...           ...          ...            ...       ...   \n",
       "214945  ปีใหม่ 58           97         บึงกาฬ     11049   \n",
       "214946  ปีใหม่ 58           97         บึงกาฬ     11049   \n",
       "214947  ปีใหม่ 58           97         บึงกาฬ     11049   \n",
       "214948  ปีใหม่ 58           97         บึงกาฬ     11049   \n",
       "214949  ปีใหม่ 58           97         บึงกาฬ     11049   \n",
       "\n",
       "       ชื่อโรงพยาบาลที่รับผู้บาดเจ็บ  วันที่เกิดเหตุ    เวลาเกิดเหตุ   เพศ  \\\n",
       "0                            กรุงเทพ               3  12:01-13:00 น.  หญิง   \n",
       "1                   กรุงเทพคริสเตียน               2  21:01-22:00 น.  หญิง   \n",
       "2                   กรุงเทพคริสเตียน              31  03:01-04:00 น.  หญิง   \n",
       "3                   กรุงเทพคริสเตียน              31  03:01-04:00 น.  หญิง   \n",
       "4                   กรุงเทพคริสเตียน              31  03:01-04:00 น.   ชาย   \n",
       "...                              ...             ...             ...   ...   \n",
       "214945                       ศรีวิไล              31  09:01-10:00 น.   ชาย   \n",
       "214946                       ศรีวิไล              30  16:01-17:00 น.  หญิง   \n",
       "214947                       ศรีวิไล              30  24:01-01:00 น.   ชาย   \n",
       "214948                       ศรีวิไล              31  14:01-15:00 น.   ชาย   \n",
       "214949                       ศรีวิไล               5  15:01-16:00 น.   ชาย   \n",
       "\n",
       "        อายุ ถนนที่เกิดเหตุ       สถานะ    รถผู้บาดเจ็บ      รถคู่กรณี  \\\n",
       "0         54        ในเมือง   ผู้ชับขี่  รถเก๋ง/แท็กซี่   ไม่มี/ล้มเอง   \n",
       "1         13        ในเมือง   ผู้ชับขี่     จักรยานยนต์          รถตู้   \n",
       "2          0        ในเมือง   ผู้โดยสาร     จักรยานยนต์         ปิคอัพ   \n",
       "3          0        ในเมือง   ผู้โดยสาร     จักรยานยนต์         ปิคอัพ   \n",
       "4          0        ในเมือง   ผู้ชับขี่     จักรยานยนต์         ปิคอัพ   \n",
       "...      ...            ...         ...             ...            ...   \n",
       "214945     3           ชนบท  คนเดินเท้า    ไม่มี/ล้มเอง    จักรยานยนต์   \n",
       "214946     4           ชนบท  คนเดินเท้า    ไม่มี/ล้มเอง    จักรยานยนต์   \n",
       "214947    20           ชนบท   ผู้ชับขี่     จักรยานยนต์         ปิคอัพ   \n",
       "214948    16           ชนบท   ผู้ชับขี่     จักรยานยนต์   ไม่มี/ล้มเอง   \n",
       "214949    19        ทางหลวง   ผู้ชับขี่     จักรยานยนต์  สามล้อเครื่อง   \n",
       "\n",
       "        มาตรการ การดื่มสุรา           การนำส่ง       Refer-Admit ผลการรักษา  \\\n",
       "0       เข็มขัด     ไม่ดื่ม  ผู้ประสบเหตุ/ญาติ               ไม่  ทุเลา/หาย   \n",
       "1       ใส่หมวก     ไม่ดื่ม  มูลนิธิ/อาสาสมัคร             admit  ทุเลา/หาย   \n",
       "2        ไม่ใส่     ไม่ดื่ม  ผู้ประสบเหตุ/ญาติ               ไม่  ทุเลา/หาย   \n",
       "3       ใส่หมวก     ไม่ดื่ม  ผู้ประสบเหตุ/ญาติ               ไม่  ทุเลา/หาย   \n",
       "4       ใส่หมวก        ดื่ม  ผู้ประสบเหตุ/ญาติ               ไม่  ทุเลา/หาย   \n",
       "...         ...         ...                ...               ...        ...   \n",
       "214945   ไม่ใส่     ไม่ดื่ม  ผู้ประสบเหตุ/ญาติ               ไม่  ทุเลา/หาย   \n",
       "214946   ไม่ใส่     ไม่ดื่ม  ผู้ประสบเหตุ/ญาติ               ไม่  ทุเลา/หาย   \n",
       "214947   ไม่ใส่     ไม่ดื่ม                ALS  ส่งต่อก่อน admit  ทุเลา/หาย   \n",
       "214948   ไม่ใส่        ดื่ม                 FR  ส่งต่อก่อน admit  ทุเลา/หาย   \n",
       "214949  ใส่หมวก     ไม่ดื่ม  ผู้ประสบเหตุ/ญาติ  ส่งต่อก่อน admit  ทุเลา/หาย   \n",
       "\n",
       "        จำนวนวันรักษา  \n",
       "0                   0  \n",
       "1                   0  \n",
       "2                   0  \n",
       "3                   0  \n",
       "4                   0  \n",
       "...               ...  \n",
       "214945              0  \n",
       "214946              0  \n",
       "214947              0  \n",
       "214948              0  \n",
       "214949              0  \n",
       "\n",
       "[214950 rows x 19 columns]"
      ]
     },
     "execution_count": 953,
     "metadata": {},
     "output_type": "execute_result"
    }
   ],
   "source": [
    "df = pd.read_csv(\"accidents.csv\")\n",
    "df"
   ]
  },
  {
   "cell_type": "code",
   "execution_count": 954,
   "metadata": {},
   "outputs": [],
   "source": [
    "df = df.loc[(df.มาตรการ != 'ไม่ทราบ') & (df.รถผู้บาดเจ็บ == 'จักรยานยนต์') ]\n",
    "#df"
   ]
  },
  {
   "cell_type": "code",
   "execution_count": 955,
   "metadata": {},
   "outputs": [
    {
     "data": {
      "text/html": [
       "<div>\n",
       "<style scoped>\n",
       "    .dataframe tbody tr th:only-of-type {\n",
       "        vertical-align: middle;\n",
       "    }\n",
       "\n",
       "    .dataframe tbody tr th {\n",
       "        vertical-align: top;\n",
       "    }\n",
       "\n",
       "    .dataframe thead th {\n",
       "        text-align: right;\n",
       "    }\n",
       "</style>\n",
       "<table border=\"1\" class=\"dataframe\">\n",
       "  <thead>\n",
       "    <tr style=\"text-align: right;\">\n",
       "      <th></th>\n",
       "      <th>ชื่อเทศกาล</th>\n",
       "      <th>รหัสจังหวัด</th>\n",
       "      <th>จังหวัด</th>\n",
       "      <th>รหัส รพ.</th>\n",
       "      <th>ชื่อโรงพยาบาลที่รับผู้บาดเจ็บ</th>\n",
       "      <th>วันที่เกิดเหตุ</th>\n",
       "      <th>เวลาเกิดเหตุ</th>\n",
       "      <th>เพศ</th>\n",
       "      <th>อายุ</th>\n",
       "      <th>ถนนที่เกิดเหตุ</th>\n",
       "      <th>สถานะ</th>\n",
       "      <th>รถผู้บาดเจ็บ</th>\n",
       "      <th>รถคู่กรณี</th>\n",
       "      <th>มาตรการ</th>\n",
       "      <th>การดื่มสุรา</th>\n",
       "      <th>การนำส่ง</th>\n",
       "      <th>Refer-Admit</th>\n",
       "      <th>ผลการรักษา</th>\n",
       "      <th>จำนวนวันรักษา</th>\n",
       "    </tr>\n",
       "  </thead>\n",
       "  <tbody>\n",
       "    <tr>\n",
       "      <th>1</th>\n",
       "      <td>ปีใหม่ 51</td>\n",
       "      <td>10</td>\n",
       "      <td>กรุงเทพมหานคร</td>\n",
       "      <td>11548</td>\n",
       "      <td>กรุงเทพคริสเตียน</td>\n",
       "      <td>2</td>\n",
       "      <td>21:01-22:00 น.</td>\n",
       "      <td>หญิง</td>\n",
       "      <td>13</td>\n",
       "      <td>ในเมือง</td>\n",
       "      <td>ผู้ชับขี่</td>\n",
       "      <td>จักรยานยนต์</td>\n",
       "      <td>รถตู้</td>\n",
       "      <td>ใส่หมวก</td>\n",
       "      <td>ไม่ดื่ม</td>\n",
       "      <td>มูลนิธิ/อาสาสมัคร</td>\n",
       "      <td>admit</td>\n",
       "      <td>ทุเลา/หาย</td>\n",
       "      <td>0</td>\n",
       "    </tr>\n",
       "    <tr>\n",
       "      <th>2</th>\n",
       "      <td>ปีใหม่ 51</td>\n",
       "      <td>10</td>\n",
       "      <td>กรุงเทพมหานคร</td>\n",
       "      <td>11548</td>\n",
       "      <td>กรุงเทพคริสเตียน</td>\n",
       "      <td>31</td>\n",
       "      <td>03:01-04:00 น.</td>\n",
       "      <td>หญิง</td>\n",
       "      <td>0</td>\n",
       "      <td>ในเมือง</td>\n",
       "      <td>ผู้โดยสาร</td>\n",
       "      <td>จักรยานยนต์</td>\n",
       "      <td>ปิคอัพ</td>\n",
       "      <td>ไม่ใส่</td>\n",
       "      <td>ไม่ดื่ม</td>\n",
       "      <td>ผู้ประสบเหตุ/ญาติ</td>\n",
       "      <td>ไม่</td>\n",
       "      <td>ทุเลา/หาย</td>\n",
       "      <td>0</td>\n",
       "    </tr>\n",
       "    <tr>\n",
       "      <th>3</th>\n",
       "      <td>ปีใหม่ 51</td>\n",
       "      <td>10</td>\n",
       "      <td>กรุงเทพมหานคร</td>\n",
       "      <td>11548</td>\n",
       "      <td>กรุงเทพคริสเตียน</td>\n",
       "      <td>31</td>\n",
       "      <td>03:01-04:00 น.</td>\n",
       "      <td>หญิง</td>\n",
       "      <td>0</td>\n",
       "      <td>ในเมือง</td>\n",
       "      <td>ผู้โดยสาร</td>\n",
       "      <td>จักรยานยนต์</td>\n",
       "      <td>ปิคอัพ</td>\n",
       "      <td>ใส่หมวก</td>\n",
       "      <td>ไม่ดื่ม</td>\n",
       "      <td>ผู้ประสบเหตุ/ญาติ</td>\n",
       "      <td>ไม่</td>\n",
       "      <td>ทุเลา/หาย</td>\n",
       "      <td>0</td>\n",
       "    </tr>\n",
       "    <tr>\n",
       "      <th>4</th>\n",
       "      <td>ปีใหม่ 51</td>\n",
       "      <td>10</td>\n",
       "      <td>กรุงเทพมหานคร</td>\n",
       "      <td>11548</td>\n",
       "      <td>กรุงเทพคริสเตียน</td>\n",
       "      <td>31</td>\n",
       "      <td>03:01-04:00 น.</td>\n",
       "      <td>ชาย</td>\n",
       "      <td>0</td>\n",
       "      <td>ในเมือง</td>\n",
       "      <td>ผู้ชับขี่</td>\n",
       "      <td>จักรยานยนต์</td>\n",
       "      <td>ปิคอัพ</td>\n",
       "      <td>ใส่หมวก</td>\n",
       "      <td>ดื่ม</td>\n",
       "      <td>ผู้ประสบเหตุ/ญาติ</td>\n",
       "      <td>ไม่</td>\n",
       "      <td>ทุเลา/หาย</td>\n",
       "      <td>0</td>\n",
       "    </tr>\n",
       "    <tr>\n",
       "      <th>9</th>\n",
       "      <td>ปีใหม่ 51</td>\n",
       "      <td>10</td>\n",
       "      <td>กรุงเทพมหานคร</td>\n",
       "      <td>11616</td>\n",
       "      <td>กรุงธน 1</td>\n",
       "      <td>2</td>\n",
       "      <td>11:01-12:00 น.</td>\n",
       "      <td>ชาย</td>\n",
       "      <td>0</td>\n",
       "      <td>ในเมือง</td>\n",
       "      <td>ผู้ชับขี่</td>\n",
       "      <td>จักรยานยนต์</td>\n",
       "      <td>ไม่มี/ล้มเอง</td>\n",
       "      <td>ไม่ใส่</td>\n",
       "      <td>ไม่ทราบ</td>\n",
       "      <td>ผู้ประสบเหตุ/ญาติ</td>\n",
       "      <td>ไม่</td>\n",
       "      <td>ทุเลา/หาย</td>\n",
       "      <td>0</td>\n",
       "    </tr>\n",
       "    <tr>\n",
       "      <th>...</th>\n",
       "      <td>...</td>\n",
       "      <td>...</td>\n",
       "      <td>...</td>\n",
       "      <td>...</td>\n",
       "      <td>...</td>\n",
       "      <td>...</td>\n",
       "      <td>...</td>\n",
       "      <td>...</td>\n",
       "      <td>...</td>\n",
       "      <td>...</td>\n",
       "      <td>...</td>\n",
       "      <td>...</td>\n",
       "      <td>...</td>\n",
       "      <td>...</td>\n",
       "      <td>...</td>\n",
       "      <td>...</td>\n",
       "      <td>...</td>\n",
       "      <td>...</td>\n",
       "      <td>...</td>\n",
       "    </tr>\n",
       "    <tr>\n",
       "      <th>214943</th>\n",
       "      <td>ปีใหม่ 58</td>\n",
       "      <td>97</td>\n",
       "      <td>บึงกาฬ</td>\n",
       "      <td>11049</td>\n",
       "      <td>ศรีวิไล</td>\n",
       "      <td>1</td>\n",
       "      <td>09:01-10:00 น.</td>\n",
       "      <td>ชาย</td>\n",
       "      <td>35</td>\n",
       "      <td>ชนบท</td>\n",
       "      <td>ผู้ชับขี่</td>\n",
       "      <td>จักรยานยนต์</td>\n",
       "      <td>ไม่มี/ล้มเอง</td>\n",
       "      <td>ไม่ใส่</td>\n",
       "      <td>ดื่ม</td>\n",
       "      <td>FR</td>\n",
       "      <td>ไม่</td>\n",
       "      <td>ทุเลา/หาย</td>\n",
       "      <td>0</td>\n",
       "    </tr>\n",
       "    <tr>\n",
       "      <th>214944</th>\n",
       "      <td>ปีใหม่ 58</td>\n",
       "      <td>97</td>\n",
       "      <td>บึงกาฬ</td>\n",
       "      <td>11049</td>\n",
       "      <td>ศรีวิไล</td>\n",
       "      <td>30</td>\n",
       "      <td>12:01-13:00 น.</td>\n",
       "      <td>ชาย</td>\n",
       "      <td>35</td>\n",
       "      <td>ทางหลวง</td>\n",
       "      <td>ผู้ชับขี่</td>\n",
       "      <td>จักรยานยนต์</td>\n",
       "      <td>จักรยานยนต์</td>\n",
       "      <td>ใส่หมวก</td>\n",
       "      <td>ไม่ดื่ม</td>\n",
       "      <td>มูลนิธิ/อาสาสมัคร</td>\n",
       "      <td>ไม่</td>\n",
       "      <td>ทุเลา/หาย</td>\n",
       "      <td>0</td>\n",
       "    </tr>\n",
       "    <tr>\n",
       "      <th>214947</th>\n",
       "      <td>ปีใหม่ 58</td>\n",
       "      <td>97</td>\n",
       "      <td>บึงกาฬ</td>\n",
       "      <td>11049</td>\n",
       "      <td>ศรีวิไล</td>\n",
       "      <td>30</td>\n",
       "      <td>24:01-01:00 น.</td>\n",
       "      <td>ชาย</td>\n",
       "      <td>20</td>\n",
       "      <td>ชนบท</td>\n",
       "      <td>ผู้ชับขี่</td>\n",
       "      <td>จักรยานยนต์</td>\n",
       "      <td>ปิคอัพ</td>\n",
       "      <td>ไม่ใส่</td>\n",
       "      <td>ไม่ดื่ม</td>\n",
       "      <td>ALS</td>\n",
       "      <td>ส่งต่อก่อน admit</td>\n",
       "      <td>ทุเลา/หาย</td>\n",
       "      <td>0</td>\n",
       "    </tr>\n",
       "    <tr>\n",
       "      <th>214948</th>\n",
       "      <td>ปีใหม่ 58</td>\n",
       "      <td>97</td>\n",
       "      <td>บึงกาฬ</td>\n",
       "      <td>11049</td>\n",
       "      <td>ศรีวิไล</td>\n",
       "      <td>31</td>\n",
       "      <td>14:01-15:00 น.</td>\n",
       "      <td>ชาย</td>\n",
       "      <td>16</td>\n",
       "      <td>ชนบท</td>\n",
       "      <td>ผู้ชับขี่</td>\n",
       "      <td>จักรยานยนต์</td>\n",
       "      <td>ไม่มี/ล้มเอง</td>\n",
       "      <td>ไม่ใส่</td>\n",
       "      <td>ดื่ม</td>\n",
       "      <td>FR</td>\n",
       "      <td>ส่งต่อก่อน admit</td>\n",
       "      <td>ทุเลา/หาย</td>\n",
       "      <td>0</td>\n",
       "    </tr>\n",
       "    <tr>\n",
       "      <th>214949</th>\n",
       "      <td>ปีใหม่ 58</td>\n",
       "      <td>97</td>\n",
       "      <td>บึงกาฬ</td>\n",
       "      <td>11049</td>\n",
       "      <td>ศรีวิไล</td>\n",
       "      <td>5</td>\n",
       "      <td>15:01-16:00 น.</td>\n",
       "      <td>ชาย</td>\n",
       "      <td>19</td>\n",
       "      <td>ทางหลวง</td>\n",
       "      <td>ผู้ชับขี่</td>\n",
       "      <td>จักรยานยนต์</td>\n",
       "      <td>สามล้อเครื่อง</td>\n",
       "      <td>ใส่หมวก</td>\n",
       "      <td>ไม่ดื่ม</td>\n",
       "      <td>ผู้ประสบเหตุ/ญาติ</td>\n",
       "      <td>ส่งต่อก่อน admit</td>\n",
       "      <td>ทุเลา/หาย</td>\n",
       "      <td>0</td>\n",
       "    </tr>\n",
       "  </tbody>\n",
       "</table>\n",
       "<p>165564 rows × 19 columns</p>\n",
       "</div>"
      ],
      "text/plain": [
       "       ชื่อเทศกาล  รหัสจังหวัด        จังหวัด  รหัส รพ.  \\\n",
       "1       ปีใหม่ 51           10  กรุงเทพมหานคร     11548   \n",
       "2       ปีใหม่ 51           10  กรุงเทพมหานคร     11548   \n",
       "3       ปีใหม่ 51           10  กรุงเทพมหานคร     11548   \n",
       "4       ปีใหม่ 51           10  กรุงเทพมหานคร     11548   \n",
       "9       ปีใหม่ 51           10  กรุงเทพมหานคร     11616   \n",
       "...           ...          ...            ...       ...   \n",
       "214943  ปีใหม่ 58           97         บึงกาฬ     11049   \n",
       "214944  ปีใหม่ 58           97         บึงกาฬ     11049   \n",
       "214947  ปีใหม่ 58           97         บึงกาฬ     11049   \n",
       "214948  ปีใหม่ 58           97         บึงกาฬ     11049   \n",
       "214949  ปีใหม่ 58           97         บึงกาฬ     11049   \n",
       "\n",
       "       ชื่อโรงพยาบาลที่รับผู้บาดเจ็บ  วันที่เกิดเหตุ    เวลาเกิดเหตุ   เพศ  \\\n",
       "1                   กรุงเทพคริสเตียน               2  21:01-22:00 น.  หญิง   \n",
       "2                   กรุงเทพคริสเตียน              31  03:01-04:00 น.  หญิง   \n",
       "3                   กรุงเทพคริสเตียน              31  03:01-04:00 น.  หญิง   \n",
       "4                   กรุงเทพคริสเตียน              31  03:01-04:00 น.   ชาย   \n",
       "9                           กรุงธน 1               2  11:01-12:00 น.   ชาย   \n",
       "...                              ...             ...             ...   ...   \n",
       "214943                       ศรีวิไล               1  09:01-10:00 น.   ชาย   \n",
       "214944                       ศรีวิไล              30  12:01-13:00 น.   ชาย   \n",
       "214947                       ศรีวิไล              30  24:01-01:00 น.   ชาย   \n",
       "214948                       ศรีวิไล              31  14:01-15:00 น.   ชาย   \n",
       "214949                       ศรีวิไล               5  15:01-16:00 น.   ชาย   \n",
       "\n",
       "        อายุ ถนนที่เกิดเหตุ      สถานะ รถผู้บาดเจ็บ      รถคู่กรณี  มาตรการ  \\\n",
       "1         13        ในเมือง  ผู้ชับขี่  จักรยานยนต์          รถตู้  ใส่หมวก   \n",
       "2          0        ในเมือง  ผู้โดยสาร  จักรยานยนต์         ปิคอัพ   ไม่ใส่   \n",
       "3          0        ในเมือง  ผู้โดยสาร  จักรยานยนต์         ปิคอัพ  ใส่หมวก   \n",
       "4          0        ในเมือง  ผู้ชับขี่  จักรยานยนต์         ปิคอัพ  ใส่หมวก   \n",
       "9          0        ในเมือง  ผู้ชับขี่  จักรยานยนต์   ไม่มี/ล้มเอง   ไม่ใส่   \n",
       "...      ...            ...        ...          ...            ...      ...   \n",
       "214943    35           ชนบท  ผู้ชับขี่  จักรยานยนต์   ไม่มี/ล้มเอง   ไม่ใส่   \n",
       "214944    35        ทางหลวง  ผู้ชับขี่  จักรยานยนต์    จักรยานยนต์  ใส่หมวก   \n",
       "214947    20           ชนบท  ผู้ชับขี่  จักรยานยนต์         ปิคอัพ   ไม่ใส่   \n",
       "214948    16           ชนบท  ผู้ชับขี่  จักรยานยนต์   ไม่มี/ล้มเอง   ไม่ใส่   \n",
       "214949    19        ทางหลวง  ผู้ชับขี่  จักรยานยนต์  สามล้อเครื่อง  ใส่หมวก   \n",
       "\n",
       "       การดื่มสุรา           การนำส่ง       Refer-Admit ผลการรักษา  \\\n",
       "1          ไม่ดื่ม  มูลนิธิ/อาสาสมัคร             admit  ทุเลา/หาย   \n",
       "2          ไม่ดื่ม  ผู้ประสบเหตุ/ญาติ               ไม่  ทุเลา/หาย   \n",
       "3          ไม่ดื่ม  ผู้ประสบเหตุ/ญาติ               ไม่  ทุเลา/หาย   \n",
       "4             ดื่ม  ผู้ประสบเหตุ/ญาติ               ไม่  ทุเลา/หาย   \n",
       "9          ไม่ทราบ  ผู้ประสบเหตุ/ญาติ               ไม่  ทุเลา/หาย   \n",
       "...            ...                ...               ...        ...   \n",
       "214943        ดื่ม                 FR               ไม่  ทุเลา/หาย   \n",
       "214944     ไม่ดื่ม  มูลนิธิ/อาสาสมัคร               ไม่  ทุเลา/หาย   \n",
       "214947     ไม่ดื่ม                ALS  ส่งต่อก่อน admit  ทุเลา/หาย   \n",
       "214948        ดื่ม                 FR  ส่งต่อก่อน admit  ทุเลา/หาย   \n",
       "214949     ไม่ดื่ม  ผู้ประสบเหตุ/ญาติ  ส่งต่อก่อน admit  ทุเลา/หาย   \n",
       "\n",
       "        จำนวนวันรักษา  \n",
       "1                   0  \n",
       "2                   0  \n",
       "3                   0  \n",
       "4                   0  \n",
       "9                   0  \n",
       "...               ...  \n",
       "214943              0  \n",
       "214944              0  \n",
       "214947              0  \n",
       "214948              0  \n",
       "214949              0  \n",
       "\n",
       "[165564 rows x 19 columns]"
      ]
     },
     "execution_count": 955,
     "metadata": {},
     "output_type": "execute_result"
    }
   ],
   "source": [
    "df"
   ]
  },
  {
   "cell_type": "markdown",
   "metadata": {},
   "source": [
    "### สร้างคอลัมน์ใหม่ที่ระบุว่าผู้บาดเจ็บตายหรือไม่ โดยดูผลจากคอลัมน์ผลการรักษา"
   ]
  },
  {
   "cell_type": "code",
   "execution_count": 956,
   "metadata": {},
   "outputs": [
    {
     "name": "stderr",
     "output_type": "stream",
     "text": [
      "<ipython-input-956-9dd013949e10>:1: SettingWithCopyWarning: \n",
      "A value is trying to be set on a copy of a slice from a DataFrame.\n",
      "Try using .loc[row_indexer,col_indexer] = value instead\n",
      "\n",
      "See the caveats in the documentation: https://pandas.pydata.org/pandas-docs/stable/user_guide/indexing.html#returning-a-view-versus-a-copy\n",
      "  df['สถานะการมีชีวิต'] = df['ผลการรักษา']\n"
     ]
    }
   ],
   "source": [
    "df['สถานะการมีชีวิต'] = df['ผลการรักษา']\n",
    "#df"
   ]
  },
  {
   "cell_type": "code",
   "execution_count": 957,
   "metadata": {},
   "outputs": [
    {
     "name": "stderr",
     "output_type": "stream",
     "text": [
      "D:\\Anaconda\\lib\\site-packages\\pandas\\core\\indexing.py:1765: SettingWithCopyWarning: \n",
      "A value is trying to be set on a copy of a slice from a DataFrame.\n",
      "Try using .loc[row_indexer,col_indexer] = value instead\n",
      "\n",
      "See the caveats in the documentation: https://pandas.pydata.org/pandas-docs/stable/user_guide/indexing.html#returning-a-view-versus-a-copy\n",
      "  isetter(loc, value)\n"
     ]
    }
   ],
   "source": [
    "df.loc[df.ผลการรักษา == 'ทุเลา/หาย','สถานะการมีชีวิต'] = 'รอด'\n",
    "#df"
   ]
  },
  {
   "cell_type": "code",
   "execution_count": 958,
   "metadata": {},
   "outputs": [],
   "source": [
    "df.loc[df.สถานะการมีชีวิต.str.startswith('ต'),'สถานะการมีชีวิต'] = 'ตาย'\n",
    "#df"
   ]
  },
  {
   "cell_type": "code",
   "execution_count": 959,
   "metadata": {},
   "outputs": [
    {
     "name": "stderr",
     "output_type": "stream",
     "text": [
      "<ipython-input-959-73abc555d479>:1: SettingWithCopyWarning: \n",
      "A value is trying to be set on a copy of a slice from a DataFrame.\n",
      "Try using .loc[row_indexer,col_indexer] = value instead\n",
      "\n",
      "See the caveats in the documentation: https://pandas.pydata.org/pandas-docs/stable/user_guide/indexing.html#returning-a-view-versus-a-copy\n",
      "  df['จำนวน'] = 1\n"
     ]
    }
   ],
   "source": [
    "df['จำนวน'] = 1\n",
    "#df"
   ]
  },
  {
   "cell_type": "markdown",
   "metadata": {},
   "source": [
    "### สร้าง pivot table แสดงจำนวนผู้บาดเจ็บที่ตาย/ไม่ตาย เทียบกับ มาตรการ ใส่หมวก/ไม่ใส่"
   ]
  },
  {
   "cell_type": "code",
   "execution_count": 960,
   "metadata": {},
   "outputs": [
    {
     "data": {
      "text/html": [
       "<div>\n",
       "<style scoped>\n",
       "    .dataframe tbody tr th:only-of-type {\n",
       "        vertical-align: middle;\n",
       "    }\n",
       "\n",
       "    .dataframe tbody tr th {\n",
       "        vertical-align: top;\n",
       "    }\n",
       "\n",
       "    .dataframe thead th {\n",
       "        text-align: right;\n",
       "    }\n",
       "</style>\n",
       "<table border=\"1\" class=\"dataframe\">\n",
       "  <thead>\n",
       "    <tr style=\"text-align: right;\">\n",
       "      <th>มาตรการ</th>\n",
       "      <th>ใส่หมวก</th>\n",
       "      <th>ไม่ใส่</th>\n",
       "    </tr>\n",
       "    <tr>\n",
       "      <th>สถานะการมีชีวิต</th>\n",
       "      <th></th>\n",
       "      <th></th>\n",
       "    </tr>\n",
       "  </thead>\n",
       "  <tbody>\n",
       "    <tr>\n",
       "      <th>ตาย</th>\n",
       "      <td>228</td>\n",
       "      <td>1683</td>\n",
       "    </tr>\n",
       "    <tr>\n",
       "      <th>รอด</th>\n",
       "      <td>30997</td>\n",
       "      <td>132656</td>\n",
       "    </tr>\n",
       "  </tbody>\n",
       "</table>\n",
       "</div>"
      ],
      "text/plain": [
       "มาตรการ          ใส่หมวก  ไม่ใส่\n",
       "สถานะการมีชีวิต                 \n",
       "ตาย                  228    1683\n",
       "รอด                30997  132656"
      ]
     },
     "execution_count": 960,
     "metadata": {},
     "output_type": "execute_result"
    }
   ],
   "source": [
    "table = pd.pivot_table(df, values='จำนวน', index=['สถานะการมีชีวิต'],\n",
    "                    columns=['มาตรการ'], aggfunc=np.sum)\n",
    "table"
   ]
  },
  {
   "cell_type": "markdown",
   "metadata": {},
   "source": [
    "### คำนวณความเสี่ยงในการตายของการใส่หมวกและไม่ใส่หมวกจากข้อมูล แสดงค่า relative risk"
   ]
  },
  {
   "cell_type": "code",
   "execution_count": 961,
   "metadata": {},
   "outputs": [
    {
     "data": {
      "text/plain": [
       "0.007301841473178543"
      ]
     },
     "execution_count": 961,
     "metadata": {},
     "output_type": "execute_result"
    }
   ],
   "source": [
    "risk_die_with_hat = table.ใส่หมวก.ตาย/table.ใส่หมวก.sum()\n",
    "risk_die_with_hat"
   ]
  },
  {
   "cell_type": "code",
   "execution_count": 962,
   "metadata": {},
   "outputs": [
    {
     "data": {
      "text/plain": [
       "0.012528007503405563"
      ]
     },
     "execution_count": 962,
     "metadata": {},
     "output_type": "execute_result"
    }
   ],
   "source": [
    "risk_die_with_no_hat = table.ไม่ใส่.ตาย/table.ไม่ใส่.sum()\n",
    "risk_die_with_no_hat"
   ]
  },
  {
   "cell_type": "code",
   "execution_count": 963,
   "metadata": {},
   "outputs": [
    {
     "data": {
      "text/plain": [
       "0.5828414032473751"
      ]
     },
     "execution_count": 963,
     "metadata": {},
     "output_type": "execute_result"
    }
   ],
   "source": [
    "risk =  risk_die_with_hat / risk_die_with_no_hat\n",
    "risk"
   ]
  },
  {
   "cell_type": "markdown",
   "metadata": {},
   "source": [
    "### ตั้ง $H_0$ ให้เขียนสมมติฐานเป็นข้อความ"
   ]
  },
  {
   "cell_type": "markdown",
   "metadata": {},
   "source": [
    "จำนวนคนที่ตายและใส่หมวกกันน็อค = จำนวนคนที่ตายและไม่ได้ใส่หมวกกันน็อค "
   ]
  },
  {
   "cell_type": "markdown",
   "metadata": {},
   "source": [
    "### ตั้ง $H_1$ ให้เขียนสมมติฐานเป็นข้อความ"
   ]
  },
  {
   "cell_type": "markdown",
   "metadata": {},
   "source": [
    "จำนวนคนตายที่ใส่หมวกกันน็อค < จำนวนคนที่ตายและไม่ได้ใส่หมวกกันน็อค "
   ]
  },
  {
   "cell_type": "markdown",
   "metadata": {},
   "source": [
    "### กำหนดค่า $\\alpha$ ให้ระบุค่า $\\alpha$"
   ]
  },
  {
   "cell_type": "code",
   "execution_count": 964,
   "metadata": {},
   "outputs": [],
   "source": [
    "alpha = 0.10"
   ]
  },
  {
   "cell_type": "markdown",
   "metadata": {},
   "source": [
    "### ทำการคละกลุ่มข้อมูลโดยไม่สนว่าผู้บาดเจ็บใส่หรือไม่ใส่หมวก แล้วแบ่งเป็นสองกลุ่มตามจำนวนผู้บาดเจ็บที่ใส่/ไม่ใส่หมวก แล้วคำนวณ relative risk อีกครั้ง ทำแบบนี้ 1000 ครั้ง เก็บค่า relative risk แต่ละครั้งไว้"
   ]
  },
  {
   "cell_type": "code",
   "execution_count": 965,
   "metadata": {},
   "outputs": [
    {
     "data": {
      "text/plain": [
       "ไม่ใส่     134339\n",
       "ใส่หมวก     31225\n",
       "Name: มาตรการ, dtype: int64"
      ]
     },
     "execution_count": 965,
     "metadata": {},
     "output_type": "execute_result"
    }
   ],
   "source": [
    "df.มาตรการ.value_counts()"
   ]
  },
  {
   "cell_type": "code",
   "execution_count": 966,
   "metadata": {},
   "outputs": [],
   "source": [
    "n1 = 31225 #ใส่\n",
    "n2 = 134339 #ไม่ใส่"
   ]
  },
  {
   "cell_type": "code",
   "execution_count": 967,
   "metadata": {},
   "outputs": [],
   "source": [
    "hat_diff_list = []"
   ]
  },
  {
   "cell_type": "code",
   "execution_count": 968,
   "metadata": {},
   "outputs": [],
   "source": [
    "for i in range(1000):\n",
    "    g = df.sample(n1+n2,replace=True)\n",
    "    g1 = g[g.มาตรการ == 'ใส่หมวก']\n",
    "    g2 = g[g.มาตรการ == 'ไม่ใส่']\n",
    "    hat_diff_list.append(((g1.สถานะการมีชีวิต == 'ตาย').sum()/(g1.สถานะการมีชีวิต == 'รอด').sum())/((g2.สถานะการมีชีวิต == 'ตาย').sum()/(g2.สถานะการมีชีวิต == 'รอด').sum()))"
   ]
  },
  {
   "cell_type": "markdown",
   "metadata": {},
   "source": [
    "### เปรียบเทียบ $p$-value ของ relative risk กับค่า $\\alpha$ แล้วสรุปผล เขียนอธิบายการเปรียบเทียบนี้และผลสรุปที่ได้"
   ]
  },
  {
   "cell_type": "code",
   "execution_count": 969,
   "metadata": {},
   "outputs": [
    {
     "data": {
      "text/plain": [
       "0.488"
      ]
     },
     "execution_count": 969,
     "metadata": {},
     "output_type": "execute_result"
    }
   ],
   "source": [
    "p_value = (pd.Series(hat_diff_list) >=risk).sum() / 1000\n",
    "p_value"
   ]
  },
  {
   "cell_type": "code",
   "execution_count": 970,
   "metadata": {},
   "outputs": [
    {
     "data": {
      "text/plain": [
       "0.1"
      ]
     },
     "execution_count": 970,
     "metadata": {},
     "output_type": "execute_result"
    }
   ],
   "source": [
    "alpha"
   ]
  },
  {
   "cell_type": "markdown",
   "metadata": {},
   "source": [
    "p_value > alpha "
   ]
  },
  {
   "cell_type": "markdown",
   "metadata": {},
   "source": [
    "### accept  $H_0$,  reject  $H_1$"
   ]
  },
  {
   "cell_type": "code",
   "execution_count": null,
   "metadata": {},
   "outputs": [],
   "source": []
  }
 ],
 "metadata": {
  "kernelspec": {
   "display_name": "Python 3",
   "language": "python",
   "name": "python3"
  },
  "language_info": {
   "codemirror_mode": {
    "name": "ipython",
    "version": 3
   },
   "file_extension": ".py",
   "mimetype": "text/x-python",
   "name": "python",
   "nbconvert_exporter": "python",
   "pygments_lexer": "ipython3",
   "version": "3.8.5"
  }
 },
 "nbformat": 4,
 "nbformat_minor": 4
}
